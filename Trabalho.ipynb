{
 "cells": [
  {
   "cell_type": "code",
   "execution_count": 2,
   "id": "696f23f6-d31b-4294-98eb-0439ea4c5a4b",
   "metadata": {},
   "outputs": [],
   "source": [
    "import pandas as pd\n",
    "import networkx as nx\n",
    "import matplotlib.pyplot as plt\n",
    "import seaborn as sns\n",
    "import gc\n",
    "from io import StringIO\n",
    "from itertools import combinations\n",
    "\n",
    "\n",
    "try:\n",
    "    # Remover o DataFrame\n",
    "    del df\n",
    "    # Forçar a coleta de lixo\n",
    "    gc.collect()\n",
    "except Exception as e:\n",
    "    pass\n",
    "\n",
    "# Carregar o dataset\n",
    "df = pd.read_csv('ca-IMDB.edges',delim_whitespace=True,skiprows=3,names=['Filme', 'Ator'])\n",
    "\n",
    "# 1. Exibir as primeiras linhas\n",
    "#print(df.head())\n",
    "\n",
    "# 2. Informações gerais sobre o dataset\n",
    "#print(df.info())\n",
    "\n",
    "# 3. Estatísticas descritivas\n",
    "#print(df.describe())\n",
    "\n",
    "# Verificar o número de atores\n",
    "#print(df.iloc[:, 0].nunique())\n",
    "\n",
    "\n",
    "\n",
    "# 4. Verificar valores ausentes\n",
    "#print(df.isnull().sum())\n",
    "\n",
    "# 5. Histograma das variáveis numéricas\n",
    "#df.hist(figsize=(10, 8))\n",
    "#plt.tight_layout()\n",
    "#plt.show()\n",
    "\n",
    "# 6. Gráfico de dispersão entre duas variáveis\n",
    "#sns.scatterplot(x='coluna1', y='coluna2', data=df)\n",
    "#plt.show()\n",
    "\n",
    "# 7. Matriz de correlação\n",
    "#correlation_matrix = df.corr()\n",
    "#sns.heatmap(correlation_matrix, annot=True, cmap='coolwarm')\n",
    "#plt.show()\n",
    "\n",
    "# 8. Gráfico de barras para variável categórica\n",
    "#sns.countplot(x='coluna_categorica', data=df)\n",
    "#plt.show()\n",
    "\n",
    "# 9. Boxplot para identificar outliers\n",
    "#sns.boxplot(x=df['coluna_numerica'])\n",
    "#plt.show()"
   ]
  },
  {
   "cell_type": "code",
   "execution_count": 4,
   "id": "01d14cde-2545-4ee6-88d0-5c5178392b59",
   "metadata": {},
   "outputs": [
    {
     "name": "stdout",
     "output_type": "stream",
     "text": [
      "Ator\n",
      "704908    1590\n",
      "408682    1200\n",
      "579844     947\n",
      "386107     925\n",
      "866537     879\n",
      "          ... \n",
      "366768       1\n",
      "366770       1\n",
      "366771       1\n",
      "366774       1\n",
      "896308       1\n",
      "Name: count, Length: 896302, dtype: int64\n"
     ]
    }
   ],
   "source": [
    "print(df['Ator'].value_counts())"
   ]
  },
  {
   "cell_type": "code",
   "execution_count": 16,
   "id": "17e2f364-201d-4d04-ab5f-eb27eb71716c",
   "metadata": {},
   "outputs": [
    {
     "name": "stdout",
     "output_type": "stream",
     "text": [
      "Ator\n",
      "704908    [988, 1280, 1676, 1687, 2896, 7087, 7100, 7102...\n",
      "408682    [133, 137, 622, 638, 2294, 2598, 2632, 2786, 2...\n",
      "579844    [1537, 1602, 1906, 2634, 2942, 2957, 3349, 342...\n",
      "386107    [312, 313, 1149, 3283, 3405, 4168, 4178, 4179,...\n",
      "866537    [622, 687, 688, 2632, 2636, 2786, 2799, 3120, ...\n",
      "                                ...                        \n",
      "366768                                             [119618]\n",
      "366770                                             [163226]\n",
      "366771                                             [204314]\n",
      "366774                                             [384295]\n",
      "896308                                             [367577]\n",
      "Name: Filme, Length: 896302, dtype: object\n",
      "Fim\n"
     ]
    }
   ],
   "source": [
    "print(df.groupby('Ator')['Filme'].apply(list).sort_values(key=lambda x: x.str.len(), ascending=False))\n",
    "print(\"Fim\")"
   ]
  },
  {
   "cell_type": "code",
   "execution_count": 21,
   "id": "2c7eb6b9-53a2-4240-ada4-741bd5f22399",
   "metadata": {},
   "outputs": [
    {
     "data": {
      "text/html": [
       "<div>\n",
       "<style scoped>\n",
       "    .dataframe tbody tr th:only-of-type {\n",
       "        vertical-align: middle;\n",
       "    }\n",
       "\n",
       "    .dataframe tbody tr th {\n",
       "        vertical-align: top;\n",
       "    }\n",
       "\n",
       "    .dataframe thead th {\n",
       "        text-align: right;\n",
       "    }\n",
       "</style>\n",
       "<table border=\"1\" class=\"dataframe\">\n",
       "  <thead>\n",
       "    <tr style=\"text-align: right;\">\n",
       "      <th></th>\n",
       "      <th>Filme</th>\n",
       "      <th>Ator</th>\n",
       "    </tr>\n",
       "  </thead>\n",
       "  <tbody>\n",
       "    <tr>\n",
       "      <th>3077792</th>\n",
       "      <td>1</td>\n",
       "      <td>735548</td>\n",
       "    </tr>\n",
       "    <tr>\n",
       "      <th>936907</th>\n",
       "      <td>1</td>\n",
       "      <td>245734</td>\n",
       "    </tr>\n",
       "    <tr>\n",
       "      <th>1735866</th>\n",
       "      <td>1</td>\n",
       "      <td>436233</td>\n",
       "    </tr>\n",
       "    <tr>\n",
       "      <th>1095326</th>\n",
       "      <td>1</td>\n",
       "      <td>287372</td>\n",
       "    </tr>\n",
       "    <tr>\n",
       "      <th>3362442</th>\n",
       "      <td>1</td>\n",
       "      <td>800081</td>\n",
       "    </tr>\n",
       "    <tr>\n",
       "      <th>...</th>\n",
       "      <td>...</td>\n",
       "      <td>...</td>\n",
       "    </tr>\n",
       "    <tr>\n",
       "      <th>1881871</th>\n",
       "      <td>428439</td>\n",
       "      <td>467814</td>\n",
       "    </tr>\n",
       "    <tr>\n",
       "      <th>1169069</th>\n",
       "      <td>428439</td>\n",
       "      <td>306183</td>\n",
       "    </tr>\n",
       "    <tr>\n",
       "      <th>3327717</th>\n",
       "      <td>428439</td>\n",
       "      <td>792028</td>\n",
       "    </tr>\n",
       "    <tr>\n",
       "      <th>11614</th>\n",
       "      <td>428439</td>\n",
       "      <td>3122</td>\n",
       "    </tr>\n",
       "    <tr>\n",
       "      <th>1176760</th>\n",
       "      <td>428439</td>\n",
       "      <td>308305</td>\n",
       "    </tr>\n",
       "  </tbody>\n",
       "</table>\n",
       "<p>3782463 rows × 2 columns</p>\n",
       "</div>"
      ],
      "text/plain": [
       "          Filme    Ator\n",
       "3077792       1  735548\n",
       "936907        1  245734\n",
       "1735866       1  436233\n",
       "1095326       1  287372\n",
       "3362442       1  800081\n",
       "...         ...     ...\n",
       "1881871  428439  467814\n",
       "1169069  428439  306183\n",
       "3327717  428439  792028\n",
       "11614    428439    3122\n",
       "1176760  428439  308305\n",
       "\n",
       "[3782463 rows x 2 columns]"
      ]
     },
     "execution_count": 21,
     "metadata": {},
     "output_type": "execute_result"
    }
   ],
   "source": [
    "df.sort_values(by=['Filme'])"
   ]
  },
  {
   "cell_type": "code",
   "execution_count": 4,
   "id": "557836bb-e638-4bb4-aa53-e60e6c0dbf9e",
   "metadata": {},
   "outputs": [
    {
     "name": "stdout",
     "output_type": "stream",
     "text": [
      "(408682, 704908)    387\n",
      "(704908, 866537)    327\n",
      "(394511, 704908)    311\n",
      "(642389, 685331)    309\n",
      "(408682, 866537)    304\n",
      "                   ... \n",
      "(100823, 210499)      1\n",
      "(100823, 226392)      1\n",
      "(100823, 229208)      1\n",
      "(100823, 229209)      1\n",
      "(850548, 890282)      1\n",
      "Name: count, Length: 57064358, dtype: int64\n",
      "fim\n"
     ]
    }
   ],
   "source": [
    "filmes_atores = df.groupby('Filme')['Ator'].apply(list).reset_index()\n",
    "\n",
    "# Encontrar pares de atores que participaram do mesmo filme\n",
    "pares_atores_comum = []\n",
    "\n",
    "for _, row in filmes_atores.iterrows():\n",
    "    atores_comum = row['Ator']\n",
    "    # Criar todos os pares de atores que participaram no mesmo filme\n",
    "    if len(atores_comum) > 1:\n",
    "        pares_atores_comum.extend(combinations(sorted(atores_comum), 2))\n",
    "\n",
    "# Contar a frequência de cada par de atores\n",
    "atores_comum_freq = pd.Series(pares_atores_comum).value_counts()\n",
    "\n",
    "# Exibir os pares de atores que mais participaram dos mesmos filmes\n",
    "print(atores_comum_freq)\n",
    "\n",
    "print(\"fim\")"
   ]
  },
  {
   "cell_type": "code",
   "execution_count": 10,
   "id": "7d291646-649c-4882-b144-820d44593572",
   "metadata": {},
   "outputs": [
    {
     "name": "stdout",
     "output_type": "stream",
     "text": [
      "(408682, 704908)    387\n",
      "(704908, 866537)    327\n",
      "(394511, 704908)    311\n",
      "(642389, 685331)    309\n",
      "(408682, 866537)    304\n",
      "                   ... \n",
      "(100823, 210499)      1\n",
      "(100823, 226392)      1\n",
      "(100823, 229208)      1\n",
      "(100823, 229209)      1\n",
      "(850548, 890282)      1\n",
      "Name: count, Length: 57064358, dtype: int64\n"
     ]
    }
   ],
   "source": [
    "print(atores_comum_freq)"
   ]
  },
  {
   "cell_type": "code",
   "execution_count": 4,
   "id": "050231b7-8680-4ba3-91bc-c907c277e273",
   "metadata": {},
   "outputs": [
    {
     "name": "stdout",
     "output_type": "stream",
     "text": [
      "303617\n"
     ]
    }
   ],
   "source": [
    "print(df.iloc[:, 0].nunique())"
   ]
  },
  {
   "cell_type": "code",
   "execution_count": 6,
   "id": "99e513c3-6f0c-4e46-ba4f-bc7d8bca8a6a",
   "metadata": {},
   "outputs": [
    {
     "name": "stdout",
     "output_type": "stream",
     "text": [
      "896302\n"
     ]
    }
   ],
   "source": [
    "print(df.iloc[:, 1].nunique())"
   ]
  },
  {
   "cell_type": "code",
   "execution_count": 8,
   "id": "39c39a7f-6587-405a-9e42-82afe1385ac7",
   "metadata": {},
   "outputs": [
    {
     "name": "stdout",
     "output_type": "stream",
     "text": [
      "2\n"
     ]
    }
   ],
   "source": [
    "print(df.shape[1])"
   ]
  },
  {
   "cell_type": "code",
   "execution_count": null,
   "id": "cb13d7d1-67cd-4727-92a9-7bcd56df1965",
   "metadata": {},
   "outputs": [],
   "source": [
    "# 2. Informações gerais sobre o dataset\n",
    "print(df.info())"
   ]
  },
  {
   "cell_type": "code",
   "execution_count": 6,
   "id": "ebce6265-39a1-497e-924c-e1fb12b2703a",
   "metadata": {},
   "outputs": [
    {
     "name": "stdout",
     "output_type": "stream",
     "text": [
      "              Filme          Ator\n",
      "count  3.782463e+06  3.782463e+06\n",
      "mean   2.180559e+05  4.628374e+05\n",
      "std    1.256546e+05  2.551011e+05\n",
      "min    1.000000e+00  1.000000e+00\n",
      "25%    1.087320e+05  2.480815e+05\n",
      "50%    2.185820e+05  4.702810e+05\n",
      "75%    3.284630e+05  6.817990e+05\n",
      "max    4.284390e+05  8.963080e+05\n"
     ]
    }
   ],
   "source": [
    "# 3. Estatísticas descritivas\n",
    "print(df.describe())"
   ]
  },
  {
   "cell_type": "code",
   "execution_count": null,
   "id": "1e700ce7-c85e-4a0c-ba14-d3da2f36b28b",
   "metadata": {},
   "outputs": [],
   "source": [
    "print(df.isnull().sum())"
   ]
  },
  {
   "cell_type": "code",
   "execution_count": 8,
   "id": "7fb29c95-ee42-46fb-9a43-cf041b7e08db",
   "metadata": {},
   "outputs": [
    {
     "name": "stdout",
     "output_type": "stream",
     "text": [
      "Graph with 0 nodes and 0 edges\n"
     ]
    }
   ],
   "source": [
    "B = nx.Graph()\n",
    "print(B)"
   ]
  },
  {
   "cell_type": "code",
   "execution_count": 11,
   "id": "828890a2-dab2-43ae-93dd-f9eb18b354d6",
   "metadata": {},
   "outputs": [
    {
     "name": "stdout",
     "output_type": "stream",
     "text": [
      "Fim\n"
     ]
    }
   ],
   "source": [
    "#Rede Bipartida\n",
    "\n",
    "\n",
    "# Adicionar nós e arestas entre filmes e atores\n",
    "for _, row in df.iterrows():\n",
    "    # Adicionar filme como nó no grafo\n",
    "    B.add_node(row['Filme'], bipartite=0)  # bipartite=0 para filmes\n",
    "    # Adicionar ator como nó no grafo\n",
    "    B.add_node(row['Ator'], bipartite=1)   # bipartite=1 para atores\n",
    "    # Adicionar uma aresta entre o filme e o ator\n",
    "    B.add_edge(row['Filme'], row['Ator'])\n",
    "\n",
    "# Final da construção da Rede\n",
    "print (\"Fim\")"
   ]
  },
  {
   "cell_type": "code",
   "execution_count": 13,
   "id": "10515aea-e1d6-4f75-baf0-ab53715cedc5",
   "metadata": {},
   "outputs": [
    {
     "name": "stdout",
     "output_type": "stream",
     "text": [
      "Graph with 896305 nodes and 3782454 edges\n"
     ]
    }
   ],
   "source": [
    "print(B)\n"
   ]
  },
  {
   "cell_type": "code",
   "execution_count": null,
   "id": "77b64186-be45-45c0-9769-ec959f34227f",
   "metadata": {},
   "outputs": [],
   "source": [
    "\n",
    "# Visualização da rede (opcional)\n",
    "# Se você quiser ver a rede bipartida, pode usar o layout específico para redes bipartidas.\n",
    "pos = nx.bipartite_layout(B, nodes=df['Filme'])\n",
    "plt.figure(figsize=(12, 12))\n",
    "nx.draw(B, pos, with_labels=True, node_size=2000, font_size=10, node_color='skyblue')\n",
    "plt.title(\"Rede Bipartida: Filmes e Atores\")\n",
    "plt.show()\n",
    "\n",
    "print(\"Fim\")"
   ]
  },
  {
   "cell_type": "code",
   "execution_count": null,
   "id": "903ebf3f-8f6c-4a4f-aab3-7f1f4303d805",
   "metadata": {},
   "outputs": [],
   "source": [
    "G = nx.Graph()\n",
    "print(G)"
   ]
  },
  {
   "cell_type": "code",
   "execution_count": null,
   "id": "1ec1faf9-863f-45ff-850f-1c1fb8b7e365",
   "metadata": {},
   "outputs": [],
   "source": [
    "\n",
    "\n",
    "# Iterar sobre o DataFrame e adicionar as arestas\n",
    "for _, row in df.iterrows():\n",
    "    # Agrupar os atores que atuaram no mesmo filme\n",
    "    # Gerar todas as combinações de pares de atores no mesmo filme\n",
    "    for ator1, ator2 in combinations(row['Ator'], 2):\n",
    "        G.add_edge(ator1, ator2)  # Adicionar a aresta entre os dois atores\n",
    "\n",
    "# Visualizar a rede de co-atores\n",
    "plt.figure(figsize=(8, 8))\n",
    "nx.draw(G, with_labels=True, node_size=2000, node_color='skyblue', font_size=10)\n",
    "plt.title(\"Rede de Co-Atores (Com base nos filmes)\")\n",
    "plt.show()"
   ]
  }
 ],
 "metadata": {
  "kernelspec": {
   "display_name": "Python 3 (ipykernel)",
   "language": "python",
   "name": "python3"
  },
  "language_info": {
   "codemirror_mode": {
    "name": "ipython",
    "version": 3
   },
   "file_extension": ".py",
   "mimetype": "text/x-python",
   "name": "python",
   "nbconvert_exporter": "python",
   "pygments_lexer": "ipython3",
   "version": "3.11.7"
  }
 },
 "nbformat": 4,
 "nbformat_minor": 5
}
